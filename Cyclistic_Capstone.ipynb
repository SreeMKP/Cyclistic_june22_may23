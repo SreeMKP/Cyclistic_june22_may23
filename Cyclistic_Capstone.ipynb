{
 "cells": [
  {
   "cell_type": "markdown",
   "id": "f6456c28",
   "metadata": {},
   "source": [
    "#                   CAPSTONE  PROJECT: CYCLISTIC BIKE SHARE ANALYSIS(PYTHON)"
   ]
  },
  {
   "cell_type": "markdown",
   "id": "801f8831",
   "metadata": {},
   "source": [
    "Welcome to my Capstone project on **Cyclistic Bikeshare Analysis** for *Google Data Analytics Professional Certificate*. In this case study, I am working as a Junior Data Analyst in marketing team at Cyclistic, a bike share company in Chicago.\n",
    "\n",
    "Cyclistic is a bike-share program that features more than 5,800 bicycles that are geotracked and with 600 and more docking stations. Cyclistic sets itself apart from its competitors by offering reclining bikes, hand tricycles, and cargo bikes,thus  making bike-share more inclusive to people with disabilities and riders who can’t use a standard two-wheeled bike. The majority of riders opt for traditional bikes; about 8% of riders use the assistive options. Cyclistic users are more likely to ride for leisure, but about 30% use them to commute to work each day.\n",
    "\n",
    "Until now, Cyclistic's marketing strategy relied on building general awareness and appealing to broad consumer segments.One approach that helped make these things possible was the flexibility of its pricing plans: **single-ride passes, full-day passes,and annual memberships**. Customers who purchase single-ride or full-day passes are referred to as casual riders. Customers who purchase annual memberships are Cyclistic members. \n",
    "\n",
    "The Director of marketing now believes that the company's future success depends on maximizing the number of annual memberships and therefore has set a clear goal of converting casual riders into annual memberships.In light of these events my team wants to understand **how casual riders and annual members use Cyclistic bikes differently**. Drawing insights from this analysis, our team will design a new marketing strategy to convert casual riders to annual members. "
   ]
  },
  {
   "cell_type": "markdown",
   "id": "83ba1910",
   "metadata": {},
   "source": [
    "## 2. ASK"
   ]
  },
  {
   "cell_type": "markdown",
   "id": "e88d5475",
   "metadata": {},
   "source": [
    "####  BUSINESS TASK :\n",
    "\n",
    "- How do annual members and casual riders use Cyclistic bikes differently ?\n",
    "- Why would casual riders buy annual memberships ?\n",
    "- How can Cyclistic use digital media to influence casual riders to become members ?\n",
    " \n",
    " \n",
    " #### STAKEHOLDERS:\n",
    " \n",
    " - **Lily Moreno**, Director of marketing\n",
    " - **Cyclistic executive team**"
   ]
  },
  {
   "cell_type": "markdown",
   "id": "1b375016",
   "metadata": {},
   "source": [
    "## 3. PREPARE"
   ]
  },
  {
   "cell_type": "markdown",
   "id": "7c31bf53",
   "metadata": {},
   "source": [
    "The data I have used is [*Cyclistic historical trip data*](https://divvy-tripdata.s3.amazonaws.com/index.html) from **2022 June 01 to 2023 May 31**. The data is stored as 12 csv files, each file corresponding to a month. The data is structured(organized) and has been made available by **Motivate International Inc.** under this [*license*](https://ride.divvybikes.com/data-license-agreement). As this data is collected by a real bike sharing company in Chicago, there are no issues with bias or credibility. So its **Reliable, Original, Current and Cited** (as in ROCCC). I do not think its Comprehensive because this data lacks some information. As of data Integrity, its **Accurate, Consistent** and **Trustworthy**. \n",
    "\n",
    "#### Limitations:\n",
    "\n",
    "- The data-privacy issues prohibit me from using riders’ personally identifiable information. This means that I won’t be able to connect pass purchases to credit card numbers to determine if casual riders live in the Cyclistic service area or if they have purchased multiple single passes.\n",
    "\n",
    "- The financial information such as each Ride Id ticket fare is not available.\n",
    "\n",
    "- If the personally identifiable information and financial information were available, I could have calculated whether the casual riders had spent more money than if they opt for taking annual memberships.\n",
    "\n",
    "- This data does not contain information about the use of reclining bikes, hand tricycles and cargo bikes. It is said that about 8% of total riders use assistive options.\n"
   ]
  },
  {
   "cell_type": "markdown",
   "id": "5cdce172",
   "metadata": {},
   "source": [
    "## 4.  PROCESS"
   ]
  },
  {
   "cell_type": "markdown",
   "id": "46fddf6a",
   "metadata": {},
   "source": [
    "The tools I am using for this analysis are *Excel* and *Python*. I have downloaded 12 months of data from 2022 June 01 to 2023 May 31 in *Csv* format  and stored them locally for the next steps in analysis process. \n",
    "\n",
    "### Further steps in analysis process :\n",
    "\n",
    "- Importing necessary libraries in Python\n",
    "- Import 12 csv files and merge them in to a single dataset \n",
    "- Explore the data\n"
   ]
  },
  {
   "cell_type": "code",
   "execution_count": 23,
   "id": "ed193314",
   "metadata": {},
   "outputs": [],
   "source": [
    "#Importing necessary libraries\n",
    "\n",
    "import pandas as pd\n",
    "import numpy as np\n",
    "import seaborn as sns\n",
    "import matplotlib.pyplot as plt\n",
    "sns.set_style(\"darkgrid\")"
   ]
  },
  {
   "cell_type": "code",
   "execution_count": 24,
   "id": "22aed27f",
   "metadata": {},
   "outputs": [
    {
     "data": {
      "text/html": [
       "<div>\n",
       "<style scoped>\n",
       "    .dataframe tbody tr th:only-of-type {\n",
       "        vertical-align: middle;\n",
       "    }\n",
       "\n",
       "    .dataframe tbody tr th {\n",
       "        vertical-align: top;\n",
       "    }\n",
       "\n",
       "    .dataframe thead th {\n",
       "        text-align: right;\n",
       "    }\n",
       "</style>\n",
       "<table border=\"1\" class=\"dataframe\">\n",
       "  <thead>\n",
       "    <tr style=\"text-align: right;\">\n",
       "      <th></th>\n",
       "      <th>ride_id</th>\n",
       "      <th>rideable_type</th>\n",
       "      <th>started_at</th>\n",
       "      <th>ended_at</th>\n",
       "      <th>start_station_name</th>\n",
       "      <th>start_station_id</th>\n",
       "      <th>end_station_name</th>\n",
       "      <th>end_station_id</th>\n",
       "      <th>start_lat</th>\n",
       "      <th>start_lng</th>\n",
       "      <th>end_lat</th>\n",
       "      <th>end_lng</th>\n",
       "      <th>member_casual</th>\n",
       "    </tr>\n",
       "  </thead>\n",
       "  <tbody>\n",
       "    <tr>\n",
       "      <th>0</th>\n",
       "      <td>600CFD130D0FD2A4</td>\n",
       "      <td>electric_bike</td>\n",
       "      <td>2022-06-30 17:27:53</td>\n",
       "      <td>2022-06-30 17:35:15</td>\n",
       "      <td>NaN</td>\n",
       "      <td>NaN</td>\n",
       "      <td>NaN</td>\n",
       "      <td>NaN</td>\n",
       "      <td>41.89</td>\n",
       "      <td>-87.62</td>\n",
       "      <td>41.91</td>\n",
       "      <td>-87.62</td>\n",
       "      <td>casual</td>\n",
       "    </tr>\n",
       "    <tr>\n",
       "      <th>1</th>\n",
       "      <td>F5E6B5C1682C6464</td>\n",
       "      <td>electric_bike</td>\n",
       "      <td>2022-06-30 18:39:52</td>\n",
       "      <td>2022-06-30 18:47:28</td>\n",
       "      <td>NaN</td>\n",
       "      <td>NaN</td>\n",
       "      <td>NaN</td>\n",
       "      <td>NaN</td>\n",
       "      <td>41.91</td>\n",
       "      <td>-87.62</td>\n",
       "      <td>41.93</td>\n",
       "      <td>-87.63</td>\n",
       "      <td>casual</td>\n",
       "    </tr>\n",
       "    <tr>\n",
       "      <th>2</th>\n",
       "      <td>B6EB6D27BAD771D2</td>\n",
       "      <td>electric_bike</td>\n",
       "      <td>2022-06-30 11:49:25</td>\n",
       "      <td>2022-06-30 12:02:54</td>\n",
       "      <td>NaN</td>\n",
       "      <td>NaN</td>\n",
       "      <td>NaN</td>\n",
       "      <td>NaN</td>\n",
       "      <td>41.91</td>\n",
       "      <td>-87.65</td>\n",
       "      <td>41.89</td>\n",
       "      <td>-87.61</td>\n",
       "      <td>casual</td>\n",
       "    </tr>\n",
       "    <tr>\n",
       "      <th>3</th>\n",
       "      <td>C9C320375DE1D5C6</td>\n",
       "      <td>electric_bike</td>\n",
       "      <td>2022-06-30 11:15:25</td>\n",
       "      <td>2022-06-30 11:19:43</td>\n",
       "      <td>NaN</td>\n",
       "      <td>NaN</td>\n",
       "      <td>NaN</td>\n",
       "      <td>NaN</td>\n",
       "      <td>41.80</td>\n",
       "      <td>-87.66</td>\n",
       "      <td>41.80</td>\n",
       "      <td>-87.65</td>\n",
       "      <td>casual</td>\n",
       "    </tr>\n",
       "    <tr>\n",
       "      <th>4</th>\n",
       "      <td>56C055851023BE98</td>\n",
       "      <td>electric_bike</td>\n",
       "      <td>2022-06-29 23:36:50</td>\n",
       "      <td>2022-06-29 23:45:17</td>\n",
       "      <td>NaN</td>\n",
       "      <td>NaN</td>\n",
       "      <td>NaN</td>\n",
       "      <td>NaN</td>\n",
       "      <td>41.91</td>\n",
       "      <td>-87.63</td>\n",
       "      <td>41.93</td>\n",
       "      <td>-87.64</td>\n",
       "      <td>casual</td>\n",
       "    </tr>\n",
       "  </tbody>\n",
       "</table>\n",
       "</div>"
      ],
      "text/plain": [
       "            ride_id  rideable_type           started_at             ended_at  \\\n",
       "0  600CFD130D0FD2A4  electric_bike  2022-06-30 17:27:53  2022-06-30 17:35:15   \n",
       "1  F5E6B5C1682C6464  electric_bike  2022-06-30 18:39:52  2022-06-30 18:47:28   \n",
       "2  B6EB6D27BAD771D2  electric_bike  2022-06-30 11:49:25  2022-06-30 12:02:54   \n",
       "3  C9C320375DE1D5C6  electric_bike  2022-06-30 11:15:25  2022-06-30 11:19:43   \n",
       "4  56C055851023BE98  electric_bike  2022-06-29 23:36:50  2022-06-29 23:45:17   \n",
       "\n",
       "  start_station_name start_station_id end_station_name end_station_id  \\\n",
       "0                NaN              NaN              NaN            NaN   \n",
       "1                NaN              NaN              NaN            NaN   \n",
       "2                NaN              NaN              NaN            NaN   \n",
       "3                NaN              NaN              NaN            NaN   \n",
       "4                NaN              NaN              NaN            NaN   \n",
       "\n",
       "   start_lat  start_lng  end_lat  end_lng member_casual  \n",
       "0      41.89     -87.62    41.91   -87.62        casual  \n",
       "1      41.91     -87.62    41.93   -87.63        casual  \n",
       "2      41.91     -87.65    41.89   -87.61        casual  \n",
       "3      41.80     -87.66    41.80   -87.65        casual  \n",
       "4      41.91     -87.63    41.93   -87.64        casual  "
      ]
     },
     "execution_count": 24,
     "metadata": {},
     "output_type": "execute_result"
    }
   ],
   "source": [
    "# Importing csv files from cyclistic for the duration from June 2022 to May 2023\n",
    "\n",
    "df_0622 = pd.read_csv(\"E:/PYTHON/EDA/cyclistic_052022_052023/202206_divvy_tripdata.csv\")\n",
    "df_0722 = pd.read_csv(\"E:/PYTHON/EDA/cyclistic_052022_052023/202207_divvy_tripdata.csv\")\n",
    "df_0822 = pd.read_csv(\"E:/PYTHON/EDA/cyclistic_052022_052023/202208_divvy_tripdata.csv\")\n",
    "df_0922 = pd.read_csv(\"E:/PYTHON/EDA/cyclistic_052022_052023/202209_divvy_publictripdata.csv\")\n",
    "df_1022 = pd.read_csv(\"E:/PYTHON/EDA/cyclistic_052022_052023/202210_divvy_tripdata.csv\")\n",
    "df_1122 = pd.read_csv(\"E:/PYTHON/EDA/cyclistic_052022_052023/202211_divvy_tripdata.csv\")\n",
    "df_1222 = pd.read_csv(\"E:/PYTHON/EDA/cyclistic_052022_052023/202212_divvy_tripdata.csv\")\n",
    "df_0123 = pd.read_csv(\"E:/PYTHON/EDA/cyclistic_052022_052023/202301_divvy_tripdata.csv\")\n",
    "df_0223 = pd.read_csv(\"E:/PYTHON/EDA/cyclistic_052022_052023/202302_divvy_tripdata.csv\")\n",
    "df_0323 = pd.read_csv(\"E:/PYTHON/EDA/cyclistic_052022_052023/202303_divvy_tripdata.csv\")\n",
    "df_0423 = pd.read_csv(\"E:/PYTHON/EDA/cyclistic_052022_052023/202304_divvy_tripdata.csv\")\n",
    "df_0523 = pd.read_csv(\"E:/PYTHON/EDA/cyclistic_052022_052023/202305_divvy_tripdata.csv\")\n",
    "\n",
    "df = (pd.concat([df_0622,df_0722,df_0822,df_0922,df_1022,\n",
    "                 df_1122,df_1222,df_0123,df_0223,df_0323,df_0423,df_0523],\n",
    "               ignore_index = False, axis = 0)\n",
    "     )\n",
    "df.head()"
   ]
  },
  {
   "cell_type": "code",
   "execution_count": 25,
   "id": "706d7983",
   "metadata": {},
   "outputs": [
    {
     "name": "stdout",
     "output_type": "stream",
     "text": [
      "<class 'pandas.core.frame.DataFrame'>\n",
      "Int64Index: 5829030 entries, 0 to 604826\n",
      "Data columns (total 13 columns):\n",
      " #   Column              Dtype  \n",
      "---  ------              -----  \n",
      " 0   ride_id             object \n",
      " 1   rideable_type       object \n",
      " 2   started_at          object \n",
      " 3   ended_at            object \n",
      " 4   start_station_name  object \n",
      " 5   start_station_id    object \n",
      " 6   end_station_name    object \n",
      " 7   end_station_id      object \n",
      " 8   start_lat           float64\n",
      " 9   start_lng           float64\n",
      " 10  end_lat             float64\n",
      " 11  end_lng             float64\n",
      " 12  member_casual       object \n",
      "dtypes: float64(4), object(9)\n",
      "memory usage: 622.6+ MB\n"
     ]
    }
   ],
   "source": [
    "df.info()"
   ]
  },
  {
   "cell_type": "code",
   "execution_count": 26,
   "id": "e816ef92",
   "metadata": {},
   "outputs": [
    {
     "data": {
      "text/html": [
       "<div>\n",
       "<style scoped>\n",
       "    .dataframe tbody tr th:only-of-type {\n",
       "        vertical-align: middle;\n",
       "    }\n",
       "\n",
       "    .dataframe tbody tr th {\n",
       "        vertical-align: top;\n",
       "    }\n",
       "\n",
       "    .dataframe thead th {\n",
       "        text-align: right;\n",
       "    }\n",
       "</style>\n",
       "<table border=\"1\" class=\"dataframe\">\n",
       "  <thead>\n",
       "    <tr style=\"text-align: right;\">\n",
       "      <th></th>\n",
       "      <th>ride_id</th>\n",
       "      <th>rideable_type</th>\n",
       "      <th>started_at</th>\n",
       "      <th>ended_at</th>\n",
       "      <th>start_station_name</th>\n",
       "      <th>start_station_id</th>\n",
       "      <th>end_station_name</th>\n",
       "      <th>end_station_id</th>\n",
       "      <th>start_lat</th>\n",
       "      <th>start_lng</th>\n",
       "      <th>end_lat</th>\n",
       "      <th>end_lng</th>\n",
       "      <th>member_casual</th>\n",
       "    </tr>\n",
       "  </thead>\n",
       "  <tbody>\n",
       "    <tr>\n",
       "      <th>count</th>\n",
       "      <td>5829030</td>\n",
       "      <td>5829030</td>\n",
       "      <td>5829030</td>\n",
       "      <td>5829030</td>\n",
       "      <td>4994485</td>\n",
       "      <td>4994353</td>\n",
       "      <td>4937273</td>\n",
       "      <td>4937132</td>\n",
       "      <td>5.829030e+06</td>\n",
       "      <td>5.829030e+06</td>\n",
       "      <td>5.823069e+06</td>\n",
       "      <td>5.823069e+06</td>\n",
       "      <td>5829030</td>\n",
       "    </tr>\n",
       "    <tr>\n",
       "      <th>unique</th>\n",
       "      <td>5829030</td>\n",
       "      <td>3</td>\n",
       "      <td>4897045</td>\n",
       "      <td>4910590</td>\n",
       "      <td>1895</td>\n",
       "      <td>1487</td>\n",
       "      <td>1883</td>\n",
       "      <td>1468</td>\n",
       "      <td>NaN</td>\n",
       "      <td>NaN</td>\n",
       "      <td>NaN</td>\n",
       "      <td>NaN</td>\n",
       "      <td>2</td>\n",
       "    </tr>\n",
       "    <tr>\n",
       "      <th>top</th>\n",
       "      <td>600CFD130D0FD2A4</td>\n",
       "      <td>electric_bike</td>\n",
       "      <td>2022-10-03 17:22:27</td>\n",
       "      <td>2022-08-22 12:47:49</td>\n",
       "      <td>Streeter Dr &amp; Grand Ave</td>\n",
       "      <td>13022</td>\n",
       "      <td>Streeter Dr &amp; Grand Ave</td>\n",
       "      <td>13022</td>\n",
       "      <td>NaN</td>\n",
       "      <td>NaN</td>\n",
       "      <td>NaN</td>\n",
       "      <td>NaN</td>\n",
       "      <td>member</td>\n",
       "    </tr>\n",
       "    <tr>\n",
       "      <th>freq</th>\n",
       "      <td>1</td>\n",
       "      <td>3083395</td>\n",
       "      <td>8</td>\n",
       "      <td>20</td>\n",
       "      <td>73203</td>\n",
       "      <td>73203</td>\n",
       "      <td>73626</td>\n",
       "      <td>73626</td>\n",
       "      <td>NaN</td>\n",
       "      <td>NaN</td>\n",
       "      <td>NaN</td>\n",
       "      <td>NaN</td>\n",
       "      <td>3516957</td>\n",
       "    </tr>\n",
       "    <tr>\n",
       "      <th>mean</th>\n",
       "      <td>NaN</td>\n",
       "      <td>NaN</td>\n",
       "      <td>NaN</td>\n",
       "      <td>NaN</td>\n",
       "      <td>NaN</td>\n",
       "      <td>NaN</td>\n",
       "      <td>NaN</td>\n",
       "      <td>NaN</td>\n",
       "      <td>4.190283e+01</td>\n",
       "      <td>-8.764770e+01</td>\n",
       "      <td>4.190306e+01</td>\n",
       "      <td>-8.764778e+01</td>\n",
       "      <td>NaN</td>\n",
       "    </tr>\n",
       "    <tr>\n",
       "      <th>std</th>\n",
       "      <td>NaN</td>\n",
       "      <td>NaN</td>\n",
       "      <td>NaN</td>\n",
       "      <td>NaN</td>\n",
       "      <td>NaN</td>\n",
       "      <td>NaN</td>\n",
       "      <td>NaN</td>\n",
       "      <td>NaN</td>\n",
       "      <td>4.561521e-02</td>\n",
       "      <td>2.836941e-02</td>\n",
       "      <td>6.712703e-02</td>\n",
       "      <td>1.066114e-01</td>\n",
       "      <td>NaN</td>\n",
       "    </tr>\n",
       "    <tr>\n",
       "      <th>min</th>\n",
       "      <td>NaN</td>\n",
       "      <td>NaN</td>\n",
       "      <td>NaN</td>\n",
       "      <td>NaN</td>\n",
       "      <td>NaN</td>\n",
       "      <td>NaN</td>\n",
       "      <td>NaN</td>\n",
       "      <td>NaN</td>\n",
       "      <td>4.164000e+01</td>\n",
       "      <td>-8.787000e+01</td>\n",
       "      <td>0.000000e+00</td>\n",
       "      <td>-8.811000e+01</td>\n",
       "      <td>NaN</td>\n",
       "    </tr>\n",
       "    <tr>\n",
       "      <th>25%</th>\n",
       "      <td>NaN</td>\n",
       "      <td>NaN</td>\n",
       "      <td>NaN</td>\n",
       "      <td>NaN</td>\n",
       "      <td>NaN</td>\n",
       "      <td>NaN</td>\n",
       "      <td>NaN</td>\n",
       "      <td>NaN</td>\n",
       "      <td>4.188103e+01</td>\n",
       "      <td>-8.766136e+01</td>\n",
       "      <td>4.188103e+01</td>\n",
       "      <td>-8.766150e+01</td>\n",
       "      <td>NaN</td>\n",
       "    </tr>\n",
       "    <tr>\n",
       "      <th>50%</th>\n",
       "      <td>NaN</td>\n",
       "      <td>NaN</td>\n",
       "      <td>NaN</td>\n",
       "      <td>NaN</td>\n",
       "      <td>NaN</td>\n",
       "      <td>NaN</td>\n",
       "      <td>NaN</td>\n",
       "      <td>NaN</td>\n",
       "      <td>4.190000e+01</td>\n",
       "      <td>-8.764414e+01</td>\n",
       "      <td>4.190000e+01</td>\n",
       "      <td>-8.764434e+01</td>\n",
       "      <td>NaN</td>\n",
       "    </tr>\n",
       "    <tr>\n",
       "      <th>75%</th>\n",
       "      <td>NaN</td>\n",
       "      <td>NaN</td>\n",
       "      <td>NaN</td>\n",
       "      <td>NaN</td>\n",
       "      <td>NaN</td>\n",
       "      <td>NaN</td>\n",
       "      <td>NaN</td>\n",
       "      <td>NaN</td>\n",
       "      <td>4.193000e+01</td>\n",
       "      <td>-8.762991e+01</td>\n",
       "      <td>4.193000e+01</td>\n",
       "      <td>-8.762991e+01</td>\n",
       "      <td>NaN</td>\n",
       "    </tr>\n",
       "    <tr>\n",
       "      <th>max</th>\n",
       "      <td>NaN</td>\n",
       "      <td>NaN</td>\n",
       "      <td>NaN</td>\n",
       "      <td>NaN</td>\n",
       "      <td>NaN</td>\n",
       "      <td>NaN</td>\n",
       "      <td>NaN</td>\n",
       "      <td>NaN</td>\n",
       "      <td>4.207000e+01</td>\n",
       "      <td>-8.752000e+01</td>\n",
       "      <td>4.237000e+01</td>\n",
       "      <td>0.000000e+00</td>\n",
       "      <td>NaN</td>\n",
       "    </tr>\n",
       "  </tbody>\n",
       "</table>\n",
       "</div>"
      ],
      "text/plain": [
       "                 ride_id  rideable_type           started_at  \\\n",
       "count            5829030        5829030              5829030   \n",
       "unique           5829030              3              4897045   \n",
       "top     600CFD130D0FD2A4  electric_bike  2022-10-03 17:22:27   \n",
       "freq                   1        3083395                    8   \n",
       "mean                 NaN            NaN                  NaN   \n",
       "std                  NaN            NaN                  NaN   \n",
       "min                  NaN            NaN                  NaN   \n",
       "25%                  NaN            NaN                  NaN   \n",
       "50%                  NaN            NaN                  NaN   \n",
       "75%                  NaN            NaN                  NaN   \n",
       "max                  NaN            NaN                  NaN   \n",
       "\n",
       "                   ended_at       start_station_name start_station_id  \\\n",
       "count               5829030                  4994485          4994353   \n",
       "unique              4910590                     1895             1487   \n",
       "top     2022-08-22 12:47:49  Streeter Dr & Grand Ave            13022   \n",
       "freq                     20                    73203            73203   \n",
       "mean                    NaN                      NaN              NaN   \n",
       "std                     NaN                      NaN              NaN   \n",
       "min                     NaN                      NaN              NaN   \n",
       "25%                     NaN                      NaN              NaN   \n",
       "50%                     NaN                      NaN              NaN   \n",
       "75%                     NaN                      NaN              NaN   \n",
       "max                     NaN                      NaN              NaN   \n",
       "\n",
       "               end_station_name end_station_id     start_lat     start_lng  \\\n",
       "count                   4937273        4937132  5.829030e+06  5.829030e+06   \n",
       "unique                     1883           1468           NaN           NaN   \n",
       "top     Streeter Dr & Grand Ave          13022           NaN           NaN   \n",
       "freq                      73626          73626           NaN           NaN   \n",
       "mean                        NaN            NaN  4.190283e+01 -8.764770e+01   \n",
       "std                         NaN            NaN  4.561521e-02  2.836941e-02   \n",
       "min                         NaN            NaN  4.164000e+01 -8.787000e+01   \n",
       "25%                         NaN            NaN  4.188103e+01 -8.766136e+01   \n",
       "50%                         NaN            NaN  4.190000e+01 -8.764414e+01   \n",
       "75%                         NaN            NaN  4.193000e+01 -8.762991e+01   \n",
       "max                         NaN            NaN  4.207000e+01 -8.752000e+01   \n",
       "\n",
       "             end_lat       end_lng member_casual  \n",
       "count   5.823069e+06  5.823069e+06       5829030  \n",
       "unique           NaN           NaN             2  \n",
       "top              NaN           NaN        member  \n",
       "freq             NaN           NaN       3516957  \n",
       "mean    4.190306e+01 -8.764778e+01           NaN  \n",
       "std     6.712703e-02  1.066114e-01           NaN  \n",
       "min     0.000000e+00 -8.811000e+01           NaN  \n",
       "25%     4.188103e+01 -8.766150e+01           NaN  \n",
       "50%     4.190000e+01 -8.764434e+01           NaN  \n",
       "75%     4.193000e+01 -8.762991e+01           NaN  \n",
       "max     4.237000e+01  0.000000e+00           NaN  "
      ]
     },
     "execution_count": 26,
     "metadata": {},
     "output_type": "execute_result"
    }
   ],
   "source": [
    "df.describe(include = \"all\")"
   ]
  },
  {
   "cell_type": "markdown",
   "id": "c99ff5cc",
   "metadata": {},
   "source": [
    "Preliminary examination of the data shows there are 5829030 rows and 13 columns of attributes in our dataset. The data types of of attributes consist of 9 Object data types and 4 Float64 data types. The memory usage is atleast 622.6 MB."
   ]
  },
  {
   "cell_type": "markdown",
   "id": "83b89145",
   "metadata": {},
   "source": [
    "### 4.1 DATA CLEANING"
   ]
  },
  {
   "cell_type": "markdown",
   "id": "5e515256",
   "metadata": {},
   "source": [
    "- Created a backup copy of merged dataset.\n",
    "- Changing the data types to reduce memory usage and faster processing: \n",
    "   1. \"rideable_type\",\"member_casual\" to \"categorical\", \n",
    "   2. \"started_at\", \"ended_at\",  to \"datetime64[ns],\n",
    "   3. \"start_lat\", \"end_lat\", \"start_lng\", \"end_lng\" to \"Float32\"\n",
    "- Check for null values, drop rows containg null values if needed\n",
    "- Check to see if there are any duplicated rows \n",
    "- Create a column \"ride_duration\" by subtracting the difference between \"ended_at\" and \"started_at\"\n",
    "- Create columns \"day_of_week\", \"Hour\", and \"Month\" from \"started_at\" column to get the exact day of week, hour and month the ride took place.Also, replace numerical values in day_of_week, Month to corresponding  day and month in words"
   ]
  },
  {
   "cell_type": "code",
   "execution_count": 5,
   "id": "ad871080",
   "metadata": {},
   "outputs": [],
   "source": [
    "# Create a backup copy\n",
    "\n",
    "df.to_csv(\"Cyclistic_capstone_data.csv\")"
   ]
  },
  {
   "cell_type": "code",
   "execution_count": 27,
   "id": "b89b2d2c",
   "metadata": {},
   "outputs": [
    {
     "name": "stdout",
     "output_type": "stream",
     "text": [
      "<class 'pandas.core.frame.DataFrame'>\n",
      "Int64Index: 5829030 entries, 0 to 604826\n",
      "Data columns (total 13 columns):\n",
      " #   Column              Dtype         \n",
      "---  ------              -----         \n",
      " 0   ride_id             object        \n",
      " 1   rideable_type       category      \n",
      " 2   started_at          datetime64[ns]\n",
      " 3   ended_at            datetime64[ns]\n",
      " 4   start_station_name  object        \n",
      " 5   start_station_id    object        \n",
      " 6   end_station_name    object        \n",
      " 7   end_station_id      object        \n",
      " 8   start_lat           float32       \n",
      " 9   start_lng           float32       \n",
      " 10  end_lat             float32       \n",
      " 11  end_lng             float32       \n",
      " 12  member_casual       category      \n",
      "dtypes: category(2), datetime64[ns](2), float32(4), object(5)\n",
      "memory usage: 455.8+ MB\n"
     ]
    }
   ],
   "source": [
    "#Change dtypes to reduce memory usage & faster processing & drop unnecessary columns()\n",
    "#Changing started_at & ended_at columns data type to datetime64\n",
    "\n",
    "df = df.astype({\"rideable_type\":\"category\",\"started_at\":\"datetime64\",\"ended_at\":\"datetime64\", \"start_lat\":\"float32\"\n",
    "                 ,\"start_lng\":\"float32\",\"end_lat\":\"float32\",\"end_lng\":\"float32\",\"member_casual\":\"category\"})\n",
    "          \n",
    "\n",
    "df.info()"
   ]
  },
  {
   "cell_type": "code",
   "execution_count": 28,
   "id": "04b2fb31",
   "metadata": {},
   "outputs": [
    {
     "data": {
      "text/plain": [
       "ride_id                    0\n",
       "rideable_type              0\n",
       "started_at                 0\n",
       "ended_at                   0\n",
       "start_station_name    834545\n",
       "start_station_id      834677\n",
       "end_station_name      891757\n",
       "end_station_id        891898\n",
       "start_lat                  0\n",
       "start_lng                  0\n",
       "end_lat                 5961\n",
       "end_lng                 5961\n",
       "member_casual              0\n",
       "dtype: int64"
      ]
     },
     "execution_count": 28,
     "metadata": {},
     "output_type": "execute_result"
    }
   ],
   "source": [
    "#Check for total number of null values if present\n",
    "\n",
    "df.isnull().sum()"
   ]
  },
  {
   "cell_type": "code",
   "execution_count": 29,
   "id": "d5017c85",
   "metadata": {},
   "outputs": [],
   "source": [
    "#Our data frame has 834545 null values \n",
    "# Drop the null values \n",
    "\n",
    "df = df.dropna()"
   ]
  },
  {
   "cell_type": "code",
   "execution_count": 30,
   "id": "f17f2309",
   "metadata": {},
   "outputs": [
    {
     "data": {
      "text/plain": [
       "ride_id               0\n",
       "rideable_type         0\n",
       "started_at            0\n",
       "ended_at              0\n",
       "start_station_name    0\n",
       "start_station_id      0\n",
       "end_station_name      0\n",
       "end_station_id        0\n",
       "start_lat             0\n",
       "start_lng             0\n",
       "end_lat               0\n",
       "end_lng               0\n",
       "member_casual         0\n",
       "dtype: int64"
      ]
     },
     "execution_count": 30,
     "metadata": {},
     "output_type": "execute_result"
    }
   ],
   "source": [
    "#Check again to see if all null values were dropped\n",
    "df.isnull().sum()"
   ]
  },
  {
   "cell_type": "code",
   "execution_count": 31,
   "id": "0820ec23",
   "metadata": {},
   "outputs": [
    {
     "data": {
      "text/plain": [
       "0"
      ]
     },
     "execution_count": 31,
     "metadata": {},
     "output_type": "execute_result"
    }
   ],
   "source": [
    "# Check for duplicate rows \n",
    "\n",
    "df.duplicated().sum()"
   ]
  },
  {
   "cell_type": "code",
   "execution_count": 52,
   "id": "dc588384",
   "metadata": {},
   "outputs": [
    {
     "data": {
      "text/html": [
       "<div>\n",
       "<style scoped>\n",
       "    .dataframe tbody tr th:only-of-type {\n",
       "        vertical-align: middle;\n",
       "    }\n",
       "\n",
       "    .dataframe tbody tr th {\n",
       "        vertical-align: top;\n",
       "    }\n",
       "\n",
       "    .dataframe thead th {\n",
       "        text-align: right;\n",
       "    }\n",
       "</style>\n",
       "<table border=\"1\" class=\"dataframe\">\n",
       "  <thead>\n",
       "    <tr style=\"text-align: right;\">\n",
       "      <th></th>\n",
       "      <th>ride_id</th>\n",
       "      <th>rideable_type</th>\n",
       "      <th>started_at</th>\n",
       "      <th>ended_at</th>\n",
       "      <th>start_station_name</th>\n",
       "      <th>start_station_id</th>\n",
       "      <th>end_station_name</th>\n",
       "      <th>end_station_id</th>\n",
       "      <th>start_lat</th>\n",
       "      <th>start_lng</th>\n",
       "      <th>end_lat</th>\n",
       "      <th>end_lng</th>\n",
       "      <th>member_casual</th>\n",
       "      <th>ride_duration</th>\n",
       "      <th>month</th>\n",
       "      <th>day_of_week</th>\n",
       "      <th>Hour</th>\n",
       "    </tr>\n",
       "  </thead>\n",
       "  <tbody>\n",
       "    <tr>\n",
       "      <th>98</th>\n",
       "      <td>B12AD6565494C368</td>\n",
       "      <td>classic_bike</td>\n",
       "      <td>2022-06-09 22:28:32</td>\n",
       "      <td>2022-06-09 22:52:17</td>\n",
       "      <td>California Ave &amp; Milwaukee Ave</td>\n",
       "      <td>13084</td>\n",
       "      <td>California Ave &amp; Milwaukee Ave</td>\n",
       "      <td>13084</td>\n",
       "      <td>41.922695</td>\n",
       "      <td>-87.697151</td>\n",
       "      <td>41.922695</td>\n",
       "      <td>-87.697151</td>\n",
       "      <td>casual</td>\n",
       "      <td>23.750000</td>\n",
       "      <td>Jun</td>\n",
       "      <td>Thu</td>\n",
       "      <td>22</td>\n",
       "    </tr>\n",
       "    <tr>\n",
       "      <th>137</th>\n",
       "      <td>BAD4CB075003A605</td>\n",
       "      <td>electric_bike</td>\n",
       "      <td>2022-06-19 17:08:23</td>\n",
       "      <td>2022-06-19 17:08:25</td>\n",
       "      <td>California Ave &amp; Milwaukee Ave</td>\n",
       "      <td>13084</td>\n",
       "      <td>California Ave &amp; Milwaukee Ave</td>\n",
       "      <td>13084</td>\n",
       "      <td>41.922615</td>\n",
       "      <td>-87.697151</td>\n",
       "      <td>41.922695</td>\n",
       "      <td>-87.697151</td>\n",
       "      <td>casual</td>\n",
       "      <td>0.033333</td>\n",
       "      <td>Jun</td>\n",
       "      <td>Sun</td>\n",
       "      <td>17</td>\n",
       "    </tr>\n",
       "    <tr>\n",
       "      <th>214</th>\n",
       "      <td>76DAD9FC95774B53</td>\n",
       "      <td>electric_bike</td>\n",
       "      <td>2022-06-26 23:59:44</td>\n",
       "      <td>2022-06-27 00:25:26</td>\n",
       "      <td>Burnham Greenway &amp; 105th St</td>\n",
       "      <td>20222</td>\n",
       "      <td>Burnham Greenway &amp; 105th St</td>\n",
       "      <td>20222</td>\n",
       "      <td>41.704628</td>\n",
       "      <td>-87.528412</td>\n",
       "      <td>41.704575</td>\n",
       "      <td>-87.528229</td>\n",
       "      <td>casual</td>\n",
       "      <td>25.700000</td>\n",
       "      <td>Jun</td>\n",
       "      <td>Sun</td>\n",
       "      <td>23</td>\n",
       "    </tr>\n",
       "    <tr>\n",
       "      <th>216</th>\n",
       "      <td>47DE68ACCA138C13</td>\n",
       "      <td>electric_bike</td>\n",
       "      <td>2022-06-27 11:40:53</td>\n",
       "      <td>2022-06-27 11:50:16</td>\n",
       "      <td>Wood St &amp; Chicago Ave</td>\n",
       "      <td>637</td>\n",
       "      <td>California Ave &amp; Division St</td>\n",
       "      <td>13256</td>\n",
       "      <td>41.895611</td>\n",
       "      <td>-87.672096</td>\n",
       "      <td>41.903030</td>\n",
       "      <td>-87.697472</td>\n",
       "      <td>casual</td>\n",
       "      <td>9.383333</td>\n",
       "      <td>Jun</td>\n",
       "      <td>Mon</td>\n",
       "      <td>11</td>\n",
       "    </tr>\n",
       "    <tr>\n",
       "      <th>233</th>\n",
       "      <td>5D899636D3334ED5</td>\n",
       "      <td>classic_bike</td>\n",
       "      <td>2022-06-27 16:01:13</td>\n",
       "      <td>2022-06-27 16:35:56</td>\n",
       "      <td>California Ave &amp; Division St</td>\n",
       "      <td>13256</td>\n",
       "      <td>California Ave &amp; Division St</td>\n",
       "      <td>13256</td>\n",
       "      <td>41.903030</td>\n",
       "      <td>-87.697472</td>\n",
       "      <td>41.903030</td>\n",
       "      <td>-87.697472</td>\n",
       "      <td>casual</td>\n",
       "      <td>34.716667</td>\n",
       "      <td>Jun</td>\n",
       "      <td>Mon</td>\n",
       "      <td>16</td>\n",
       "    </tr>\n",
       "  </tbody>\n",
       "</table>\n",
       "</div>"
      ],
      "text/plain": [
       "              ride_id  rideable_type          started_at            ended_at  \\\n",
       "98   B12AD6565494C368   classic_bike 2022-06-09 22:28:32 2022-06-09 22:52:17   \n",
       "137  BAD4CB075003A605  electric_bike 2022-06-19 17:08:23 2022-06-19 17:08:25   \n",
       "214  76DAD9FC95774B53  electric_bike 2022-06-26 23:59:44 2022-06-27 00:25:26   \n",
       "216  47DE68ACCA138C13  electric_bike 2022-06-27 11:40:53 2022-06-27 11:50:16   \n",
       "233  5D899636D3334ED5   classic_bike 2022-06-27 16:01:13 2022-06-27 16:35:56   \n",
       "\n",
       "                 start_station_name start_station_id  \\\n",
       "98   California Ave & Milwaukee Ave            13084   \n",
       "137  California Ave & Milwaukee Ave            13084   \n",
       "214     Burnham Greenway & 105th St            20222   \n",
       "216           Wood St & Chicago Ave              637   \n",
       "233    California Ave & Division St            13256   \n",
       "\n",
       "                   end_station_name end_station_id  start_lat  start_lng  \\\n",
       "98   California Ave & Milwaukee Ave          13084  41.922695 -87.697151   \n",
       "137  California Ave & Milwaukee Ave          13084  41.922615 -87.697151   \n",
       "214     Burnham Greenway & 105th St          20222  41.704628 -87.528412   \n",
       "216    California Ave & Division St          13256  41.895611 -87.672096   \n",
       "233    California Ave & Division St          13256  41.903030 -87.697472   \n",
       "\n",
       "       end_lat    end_lng member_casual  ride_duration month day_of_week  Hour  \n",
       "98   41.922695 -87.697151        casual      23.750000   Jun         Thu    22  \n",
       "137  41.922695 -87.697151        casual       0.033333   Jun         Sun    17  \n",
       "214  41.704575 -87.528229        casual      25.700000   Jun         Sun    23  \n",
       "216  41.903030 -87.697472        casual       9.383333   Jun         Mon    11  \n",
       "233  41.903030 -87.697472        casual      34.716667   Jun         Mon    16  "
      ]
     },
     "execution_count": 52,
     "metadata": {},
     "output_type": "execute_result"
    }
   ],
   "source": [
    "#Calculate duration of rental & assigning it to a column \"ride_duration\"\n",
    "#Create columns for month,dayofweek, Hour and change numerical values to corresponding month and day of week to words \n",
    "\n",
    "df = (df.assign(ride_duration = ((df[\"ended_at\"]-df[\"started_at\"]).apply(lambda x:x/pd.Timedelta(minutes = 1))),\n",
    "    month = df[\"started_at\"].apply(lambda x:x.strftime('%b')),\n",
    "    day_of_week = df[\"started_at\"].apply(lambda x:x.strftime('%a')),\n",
    "    Hour = df[\"started_at\"].dt.hour)\n",
    ")\n",
    "df.head()"
   ]
  },
  {
   "cell_type": "code",
   "execution_count": 53,
   "id": "93d6ddf7",
   "metadata": {},
   "outputs": [
    {
     "data": {
      "text/plain": [
       "154251     -168.700000\n",
       "301277     -129.083333\n",
       "126532     -127.016667\n",
       "174725      -57.983333\n",
       "246644      -57.033333\n",
       "              ...     \n",
       "98297      8243.800000\n",
       "717056     9962.350000\n",
       "11958     10807.216667\n",
       "12699     12136.300000\n",
       "717461    32035.450000\n",
       "Name: ride_duration, Length: 4494681, dtype: float64"
      ]
     },
     "execution_count": 53,
     "metadata": {},
     "output_type": "execute_result"
    }
   ],
   "source": [
    "# Check the column \"ride_duration\" \n",
    "\n",
    "df[\"ride_duration\"].sort_values()"
   ]
  },
  {
   "cell_type": "code",
   "execution_count": 56,
   "id": "83e14c59",
   "metadata": {},
   "outputs": [],
   "source": [
    "#Convert \"ride_duration\" data type to \"int32\" \n",
    "df[\"ride_duration\"] = df[\"ride_duration\"].astype(\"int32\")\n"
   ]
  },
  {
   "cell_type": "code",
   "execution_count": 57,
   "id": "0619e5d7",
   "metadata": {},
   "outputs": [
    {
     "data": {
      "text/plain": [
       "ride_id               91501\n",
       "rideable_type         91501\n",
       "started_at            91501\n",
       "ended_at              91501\n",
       "start_station_name    91501\n",
       "start_station_id      91501\n",
       "end_station_name      91501\n",
       "end_station_id        91501\n",
       "start_lat             91501\n",
       "start_lng             91501\n",
       "end_lat               91501\n",
       "end_lng               91501\n",
       "member_casual         91501\n",
       "ride_duration         91501\n",
       "month                 91501\n",
       "day_of_week           91501\n",
       "Hour                  91501\n",
       "dtype: int64"
      ]
     },
     "execution_count": 57,
     "metadata": {},
     "output_type": "execute_result"
    }
   ],
   "source": [
    "#Checking for total rows with \"ride_duration\" <= 0\n",
    "df[df[\"ride_duration\"] <= 0].count()"
   ]
  },
  {
   "cell_type": "code",
   "execution_count": 58,
   "id": "4b3281bf",
   "metadata": {},
   "outputs": [
    {
     "data": {
      "text/plain": [
       "670260        1\n",
       "238991        1\n",
       "230145        1\n",
       "138402        1\n",
       "138400        1\n",
       "          ...  \n",
       "98297      8243\n",
       "717056     9962\n",
       "11958     10807\n",
       "12699     12136\n",
       "717461    32035\n",
       "Name: ride_duration, Length: 3864104, dtype: int32"
      ]
     },
     "execution_count": 58,
     "metadata": {},
     "output_type": "execute_result"
    }
   ],
   "source": [
    "# Drop the rows with ride duration < = 0\n",
    "\n",
    "df = df.drop(df[df[\"ride_duration\"] <= 0].index)\n",
    "df[\"ride_duration\"].sort_values()"
   ]
  },
  {
   "cell_type": "code",
   "execution_count": 59,
   "id": "c2bccffc",
   "metadata": {},
   "outputs": [
    {
     "name": "stdout",
     "output_type": "stream",
     "text": [
      "<class 'pandas.core.frame.DataFrame'>\n",
      "Int64Index: 3864104 entries, 98 to 604800\n",
      "Data columns (total 17 columns):\n",
      " #   Column              Dtype         \n",
      "---  ------              -----         \n",
      " 0   ride_id             object        \n",
      " 1   rideable_type       category      \n",
      " 2   started_at          datetime64[ns]\n",
      " 3   ended_at            datetime64[ns]\n",
      " 4   start_station_name  object        \n",
      " 5   start_station_id    object        \n",
      " 6   end_station_name    object        \n",
      " 7   end_station_id      object        \n",
      " 8   start_lat           float32       \n",
      " 9   start_lng           float32       \n",
      " 10  end_lat             float32       \n",
      " 11  end_lng             float32       \n",
      " 12  member_casual       category      \n",
      " 13  ride_duration       int32         \n",
      " 14  month               object        \n",
      " 15  day_of_week         object        \n",
      " 16  Hour                int64         \n",
      "dtypes: category(2), datetime64[ns](2), float32(4), int32(1), int64(1), object(7)\n",
      "memory usage: 405.4+ MB\n"
     ]
    }
   ],
   "source": [
    "df.info()"
   ]
  },
  {
   "cell_type": "markdown",
   "id": "8c6645c7",
   "metadata": {},
   "source": [
    "After cleaning and processing data ready for analyzing, we are left with 3864104 rows and 17 columns with memory usage of 405.4+ MB"
   ]
  },
  {
   "cell_type": "markdown",
   "id": "151061ef",
   "metadata": {},
   "source": [
    "### 5. ANALYZE & SHARE"
   ]
  },
  {
   "cell_type": "markdown",
   "id": "2b6a447f",
   "metadata": {},
   "source": [
    "Analysis or Exploratory Data Analysis, is an important step in any Data Analysis or Data Science project. EDA is the process of investigating the dataset to discover patterns, and anomalies (outliers), and form hypotheses based on our understanding of the dataset. It involves creating summary statistics for numerical data in the dataset and creating various graphical representations to understand the data better. \n",
    "- Calculate mean \"ride_duration\" for all users \n",
    "- Calculate descriptive/summary statistics(mean, median, min, max,IQR) for all users\n",
    "- Calculate mode of day_of_week\n",
    "- Calculate average \"ride_duration\" for membership type\n",
    "- Calculate average \"ride_duration\" for users by day_of_week\n",
    "- Calculate the number of rides for users by day_of_week \n",
    "- Explore the data further to find any insights"
   ]
  },
  {
   "cell_type": "code",
   "execution_count": 61,
   "id": "989e2662",
   "metadata": {},
   "outputs": [
    {
     "data": {
      "text/plain": [
       "count    3864104.0\n",
       "mean          16.0\n",
       "std           37.0\n",
       "min            1.0\n",
       "25%            6.0\n",
       "50%           10.0\n",
       "75%           18.0\n",
       "max        32035.0\n",
       "Name: ride_duration, dtype: float64"
      ]
     },
     "execution_count": 61,
     "metadata": {},
     "output_type": "execute_result"
    }
   ],
   "source": [
    "round(df[\"ride_duration\"].describe(datetime_is_numeric= True))"
   ]
  },
  {
   "cell_type": "code",
   "execution_count": 62,
   "id": "98f017ed",
   "metadata": {},
   "outputs": [
    {
     "data": {
      "text/plain": [
       "0    Sat\n",
       "Name: day_of_week, dtype: object"
      ]
     },
     "execution_count": 62,
     "metadata": {},
     "output_type": "execute_result"
    }
   ],
   "source": [
    "#Calculate mode of day_of_week\n",
    "\n",
    "df[\"day_of_week\"].mode()"
   ]
  },
  {
   "cell_type": "code",
   "execution_count": 63,
   "id": "6364fc5e",
   "metadata": {},
   "outputs": [
    {
     "data": {
      "text/plain": [
       "member_casual\n",
       "casual    22.678188\n",
       "member    12.003795\n",
       "Name: ride_duration, dtype: float64"
      ]
     },
     "execution_count": 63,
     "metadata": {},
     "output_type": "execute_result"
    }
   ],
   "source": [
    "# Calculate average \"ride_duration\" for membership type\n",
    "\n",
    "df.groupby([\"member_casual\"])[\"ride_duration\"].mean()"
   ]
  },
  {
   "cell_type": "code",
   "execution_count": 64,
   "id": "a7b03879",
   "metadata": {},
   "outputs": [
    {
     "data": {
      "image/png": "[encoded data removed]",
      "text/plain": [
       "<Figure size 640x480 with 1 Axes>"
      ]
     },
     "metadata": {},
     "output_type": "display_data"
    }
   ],
   "source": [
    "sns.boxplot(data = df, x = \"member_casual\", y = \"ride_duration\");"
   ]
  },
  {
   "cell_type": "code",
   "execution_count": 66,
   "id": "9f995c33",
   "metadata": {},
   "outputs": [
    {
     "data": {
      "text/plain": [
       "member_casual\n",
       "casual    1519781\n",
       "member    2344323\n",
       "Name: ride_id, dtype: int64"
      ]
     },
     "execution_count": 66,
     "metadata": {},
     "output_type": "execute_result"
    }
   ],
   "source": [
    "#RIDES BY CUSTOMER TYPE\n",
    "df.groupby(\"member_casual\")[\"ride_id\"].count()"
   ]
  },
  {
   "cell_type": "code",
   "execution_count": 81,
   "id": "cc39b108",
   "metadata": {},
   "outputs": [
    {
     "data": {
      "image/png": "[encoded data removed]",
      "text/plain": [
       "<Figure size 640x480 with 1 Axes>"
      ]
     },
     "metadata": {},
     "output_type": "display_data"
    }
   ],
   "source": [
    "#MOST POPULAR RIDEABLE TYPE for member type\n",
    "(df.pivot_table(index = \"member_casual\",columns = \"rideable_type\",\n",
    "                aggfunc = \"count\", values = \"ride_id\"#, margins= True,margins_name= \"Total\")\n",
    ")).plot.bar().legend(bbox_to_anchor = (1.3,1))\n",
    "plt.title(\"Most popular Rideable type for Member type\")\n",
    "plt.xlabel(\"Membership type\")\n",
    "plt.ylabel(\"Count of Rides(in millions)\");\n"
   ]
  },
  {
   "cell_type": "markdown",
   "id": "a04fafda",
   "metadata": {},
   "source": [
    "Difference of use of classic bike is more pronounced in members than casual riders with classic bikes popular in both categories"
   ]
  },
  {
   "cell_type": "code",
   "execution_count": 84,
   "id": "2808e008",
   "metadata": {},
   "outputs": [
    {
     "data": {
      "text/html": [
       "<div>\n",
       "<style scoped>\n",
       "    .dataframe tbody tr th:only-of-type {\n",
       "        vertical-align: middle;\n",
       "    }\n",
       "\n",
       "    .dataframe tbody tr th {\n",
       "        vertical-align: top;\n",
       "    }\n",
       "\n",
       "    .dataframe thead th {\n",
       "        text-align: right;\n",
       "    }\n",
       "</style>\n",
       "<table border=\"1\" class=\"dataframe\">\n",
       "  <thead>\n",
       "    <tr style=\"text-align: right;\">\n",
       "      <th>member_casual</th>\n",
       "      <th>casual</th>\n",
       "      <th>member</th>\n",
       "    </tr>\n",
       "    <tr>\n",
       "      <th>day_of_week</th>\n",
       "      <th></th>\n",
       "      <th></th>\n",
       "    </tr>\n",
       "  </thead>\n",
       "  <tbody>\n",
       "    <tr>\n",
       "      <th>Fri</th>\n",
       "      <td>21.744461</td>\n",
       "      <td>11.810266</td>\n",
       "    </tr>\n",
       "    <tr>\n",
       "      <th>Mon</th>\n",
       "      <td>22.838750</td>\n",
       "      <td>11.356224</td>\n",
       "    </tr>\n",
       "    <tr>\n",
       "      <th>Sat</th>\n",
       "      <td>25.413942</td>\n",
       "      <td>13.552857</td>\n",
       "    </tr>\n",
       "    <tr>\n",
       "      <th>Sun</th>\n",
       "      <td>26.173839</td>\n",
       "      <td>13.468993</td>\n",
       "    </tr>\n",
       "    <tr>\n",
       "      <th>Thu</th>\n",
       "      <td>20.097250</td>\n",
       "      <td>11.579188</td>\n",
       "    </tr>\n",
       "    <tr>\n",
       "      <th>Tue</th>\n",
       "      <td>20.322673</td>\n",
       "      <td>11.485581</td>\n",
       "    </tr>\n",
       "    <tr>\n",
       "      <th>Wed</th>\n",
       "      <td>19.518275</td>\n",
       "      <td>11.461460</td>\n",
       "    </tr>\n",
       "  </tbody>\n",
       "</table>\n",
       "</div>"
      ],
      "text/plain": [
       "member_casual     casual     member\n",
       "day_of_week                        \n",
       "Fri            21.744461  11.810266\n",
       "Mon            22.838750  11.356224\n",
       "Sat            25.413942  13.552857\n",
       "Sun            26.173839  13.468993\n",
       "Thu            20.097250  11.579188\n",
       "Tue            20.322673  11.485581\n",
       "Wed            19.518275  11.461460"
      ]
     },
     "execution_count": 84,
     "metadata": {},
     "output_type": "execute_result"
    }
   ],
   "source": [
    "# Calculate average \"ride_duration\" for users by day_of_week\n",
    "\n",
    "trip_duration_dow = (df.pivot_table(index = \"day_of_week\", columns = \"member_casual\",\n",
    "                                 values = \"ride_duration\", aggfunc = \"mean\")\n",
    "                  )\n",
    "trip_duration_dow"
   ]
  },
  {
   "cell_type": "code",
   "execution_count": 87,
   "id": "c0288434",
   "metadata": {},
   "outputs": [
    {
     "data": {
      "image/png": "[encoded data removed]",
      "text/plain": [
       "<Figure size 640x480 with 1 Axes>"
      ]
     },
     "metadata": {},
     "output_type": "display_data"
    }
   ],
   "source": [
    "# Plot the data for \"Average ride duration  by Day of Week\" \n",
    "\n",
    "(trip_duration_dow.\n",
    "        plot.bar(cmap =\"Set2\", title = \"Average ride duration by Day of Week\",\n",
    "              ylabel = \"Average rental duration (minutes)\",\n",
    "              xlabel = \"Day of Week\")\n",
    ");"
   ]
  },
  {
   "cell_type": "markdown",
   "id": "6b6d28e2",
   "metadata": {},
   "source": [
    "Above graph shows peak of duration of rental on weekends(Friday-Sunday) for both member types. Although, Casual riders rent the bikes for a significantly longer duration than Members with peak on Saturday & Sunday. Let's check for the average rental duration for member type aggregated by  Hour and Month next and plot them.\n"
   ]
  },
  {
   "cell_type": "code",
   "execution_count": 97,
   "id": "2da0016d",
   "metadata": {},
   "outputs": [
    {
     "data": {
      "image/png": "[encoded data removed]",
      "text/plain": [
       "<Figure size 640x480 with 1 Axes>"
      ]
     },
     "metadata": {},
     "output_type": "display_data"
    }
   ],
   "source": [
    "# Plot the data for \"Average ride duration  by Hour\" \n",
    "\n",
    "trip_duration_hour = (df.pivot_table(index = \"Hour\", columns = \"member_casual\",\n",
    "                                 values = \"ride_duration\", aggfunc = \"mean\")\n",
    "                  ).plot.bar(cmap =\"Set2\", \n",
    "                             title = \"Average ride duration by Hour of the Day\",\n",
    "                              ylabel = \"Average rental duration (minutes)\",\n",
    "                              xlabel = \"Hour of day\")\n"
   ]
  },
  {
   "cell_type": "code",
   "execution_count": 99,
   "id": "beb212e9",
   "metadata": {},
   "outputs": [
    {
     "data": {
      "image/png": "[encoded data removed]",
      "text/plain": [
       "<Figure size 640x480 with 1 Axes>"
      ]
     },
     "metadata": {},
     "output_type": "display_data"
    }
   ],
   "source": [
    "# Plot the data for \"Average ride duration  by Month\" \n",
    "\n",
    "trip_duration_hour = (df.pivot_table(index = \"month\", columns = \"member_casual\",\n",
    "                                 values = \"ride_duration\", aggfunc = \"mean\")\n",
    "                  ).plot.bar(cmap =\"Set2\", \n",
    "                             title = \"Average ride duration by Month\",\n",
    "                              ylabel = \"Average rental duration (minutes)\",\n",
    "                              xlabel = \"Month\")"
   ]
  },
  {
   "cell_type": "markdown",
   "id": "2b4d3087",
   "metadata": {},
   "source": [
    "Above two graphs confirm that casual rider's average rental duration is higher than members when aggregated by either hour, day of week or month. "
   ]
  },
  {
   "cell_type": "code",
   "execution_count": 88,
   "id": "1ad35911",
   "metadata": {},
   "outputs": [
    {
     "data": {
      "text/html": [
       "<div>\n",
       "<style scoped>\n",
       "    .dataframe tbody tr th:only-of-type {\n",
       "        vertical-align: middle;\n",
       "    }\n",
       "\n",
       "    .dataframe tbody tr th {\n",
       "        vertical-align: top;\n",
       "    }\n",
       "\n",
       "    .dataframe thead th {\n",
       "        text-align: right;\n",
       "    }\n",
       "</style>\n",
       "<table border=\"1\" class=\"dataframe\">\n",
       "  <thead>\n",
       "    <tr style=\"text-align: right;\">\n",
       "      <th>member_casual</th>\n",
       "      <th>casual</th>\n",
       "      <th>member</th>\n",
       "    </tr>\n",
       "    <tr>\n",
       "      <th>day_of_week</th>\n",
       "      <th></th>\n",
       "      <th></th>\n",
       "    </tr>\n",
       "  </thead>\n",
       "  <tbody>\n",
       "    <tr>\n",
       "      <th>Fri</th>\n",
       "      <td>224925</td>\n",
       "      <td>330553</td>\n",
       "    </tr>\n",
       "    <tr>\n",
       "      <th>Mon</th>\n",
       "      <td>169185</td>\n",
       "      <td>319347</td>\n",
       "    </tr>\n",
       "    <tr>\n",
       "      <th>Sat</th>\n",
       "      <td>306089</td>\n",
       "      <td>294161</td>\n",
       "    </tr>\n",
       "    <tr>\n",
       "      <th>Sun</th>\n",
       "      <td>251928</td>\n",
       "      <td>259599</td>\n",
       "    </tr>\n",
       "    <tr>\n",
       "      <th>Thu</th>\n",
       "      <td>202940</td>\n",
       "      <td>376520</td>\n",
       "    </tr>\n",
       "    <tr>\n",
       "      <th>Tue</th>\n",
       "      <td>175357</td>\n",
       "      <td>374263</td>\n",
       "    </tr>\n",
       "    <tr>\n",
       "      <th>Wed</th>\n",
       "      <td>189357</td>\n",
       "      <td>389880</td>\n",
       "    </tr>\n",
       "  </tbody>\n",
       "</table>\n",
       "</div>"
      ],
      "text/plain": [
       "member_casual  casual  member\n",
       "day_of_week                  \n",
       "Fri            224925  330553\n",
       "Mon            169185  319347\n",
       "Sat            306089  294161\n",
       "Sun            251928  259599\n",
       "Thu            202940  376520\n",
       "Tue            175357  374263\n",
       "Wed            189357  389880"
      ]
     },
     "execution_count": 88,
     "metadata": {},
     "output_type": "execute_result"
    }
   ],
   "source": [
    "# Calculate the number of rides for users by day_of_week \n",
    "\n",
    "trip_num_rides_dow = (df.pivot_table(index = \"day_of_week\", columns = \"member_casual\",\n",
    "                                 values = \"ride_id\", aggfunc = \"count\")\n",
    "                  )\n",
    "trip_num_rides_dow"
   ]
  },
  {
   "cell_type": "code",
   "execution_count": 90,
   "id": "a9cf0fde",
   "metadata": {},
   "outputs": [
    {
     "data": {
      "image/png": "[encoded data removed]",
      "text/plain": [
       "<Figure size 640x480 with 1 Axes>"
      ]
     },
     "metadata": {},
     "output_type": "display_data"
    }
   ],
   "source": [
    "#Plot the number of rides for Member type by Day of Week\n",
    "\n",
    "(trip_num_rides_dow.\n",
    "    plot.bar(cmap =\"Set2\", title = \"Number of rides for Member type by Day of Week\",\n",
    "              ylabel = \"Number of rides\",\n",
    "              xlabel = \"Day of Week\")\n",
    "             .legend(bbox_to_anchor = (1,1))\n",
    ");"
   ]
  },
  {
   "cell_type": "markdown",
   "id": "4fa5ff38",
   "metadata": {},
   "source": [
    "Members use the bikes(or rent the bikes) much more frequently than casual riders. Members number of rides is higher during weekdays showing that they may use bikes to commute for work. Casual riders have higher number of rides on Saturday, suggesting that they maybe tourists"
   ]
  },
  {
   "cell_type": "code",
   "execution_count": 91,
   "id": "93c0b824",
   "metadata": {},
   "outputs": [
    {
     "data": {
      "image/png": "[encoded data removed]",
      "text/plain": [
       "<Figure size 640x480 with 1 Axes>"
      ]
     },
     "metadata": {},
     "output_type": "display_data"
    }
   ],
   "source": [
    "# Plot the number of rides by month for member type\n",
    "\n",
    "(sns.countplot(data = df,x = \"month\",hue = \"member_casual\",\n",
    "               palette= \"Set2\")\n",
    ")\n",
    "plt.xlabel(\"Month\")\n",
    "plt.ylabel(\"Number of rides\")\n",
    "plt.title(\"Total rides per member type by Month\");\n",
    "#plt.legend(bbox_to_anchor = (1,1))"
   ]
  },
  {
   "cell_type": "markdown",
   "id": "5fac43ae",
   "metadata": {},
   "source": [
    "Above graph shows the same as in the graph before: Members rent the bikes more frequently than casual riders when aggregated by Month. Lets check if the same is true when we aggregate by Hour "
   ]
  },
  {
   "cell_type": "code",
   "execution_count": 93,
   "id": "c27d7ccc",
   "metadata": {},
   "outputs": [
    {
     "data": {
      "image/png": "[encoded data removed]",
      "text/plain": [
       "<Figure size 640x480 with 1 Axes>"
      ]
     },
     "metadata": {},
     "output_type": "display_data"
    }
   ],
   "source": [
    "sns.countplot(data = df, x = \"Hour\", hue = \"member_casual\", palette = \"Set2\")\n",
    "plt.xlabel(\"Hour of the day\")\n",
    "plt.ylabel(\"Number of rides\")\n",
    "plt.title(\"Total rides per member type by Hour\");"
   ]
  },
  {
   "cell_type": "markdown",
   "id": "9a694bee",
   "metadata": {},
   "source": [
    "As we have discussed before,Members rent more frequently.Peak times of rent are during 4-6PM evening on both member types. Interestingly there's another peak time for members 6-8 AM, therefore we can infer that members use bikes for commute to travel to work"
   ]
  },
  {
   "cell_type": "code",
   "execution_count": 105,
   "id": "8aea12c9",
   "metadata": {},
   "outputs": [
    {
     "data": {
      "text/html": [
       "<div>\n",
       "<style scoped>\n",
       "    .dataframe tbody tr th:only-of-type {\n",
       "        vertical-align: middle;\n",
       "    }\n",
       "\n",
       "    .dataframe tbody tr th {\n",
       "        vertical-align: top;\n",
       "    }\n",
       "\n",
       "    .dataframe thead th {\n",
       "        text-align: right;\n",
       "    }\n",
       "</style>\n",
       "<table border=\"1\" class=\"dataframe\">\n",
       "  <thead>\n",
       "    <tr style=\"text-align: right;\">\n",
       "      <th></th>\n",
       "      <th>ride_id</th>\n",
       "    </tr>\n",
       "    <tr>\n",
       "      <th>start_station_name</th>\n",
       "      <th></th>\n",
       "    </tr>\n",
       "  </thead>\n",
       "  <tbody>\n",
       "    <tr>\n",
       "      <th>Kingsbury St &amp; Kinzie St</th>\n",
       "      <td>20310</td>\n",
       "    </tr>\n",
       "    <tr>\n",
       "      <th>Clark St &amp; Elm St</th>\n",
       "      <td>18493</td>\n",
       "    </tr>\n",
       "    <tr>\n",
       "      <th>Clinton St &amp; Washington Blvd</th>\n",
       "      <td>17512</td>\n",
       "    </tr>\n",
       "    <tr>\n",
       "      <th>Wells St &amp; Concord Ln</th>\n",
       "      <td>17095</td>\n",
       "    </tr>\n",
       "    <tr>\n",
       "      <th>Loomis St &amp; Lexington St</th>\n",
       "      <td>16764</td>\n",
       "    </tr>\n",
       "    <tr>\n",
       "      <th>University Ave &amp; 57th St</th>\n",
       "      <td>16061</td>\n",
       "    </tr>\n",
       "    <tr>\n",
       "      <th>Ellis Ave &amp; 60th St</th>\n",
       "      <td>15915</td>\n",
       "    </tr>\n",
       "    <tr>\n",
       "      <th>Clinton St &amp; Madison St</th>\n",
       "      <td>15511</td>\n",
       "    </tr>\n",
       "    <tr>\n",
       "      <th>Wells St &amp; Elm St</th>\n",
       "      <td>15502</td>\n",
       "    </tr>\n",
       "    <tr>\n",
       "      <th>Streeter Dr &amp; Grand Ave</th>\n",
       "      <td>14323</td>\n",
       "    </tr>\n",
       "  </tbody>\n",
       "</table>\n",
       "</div>"
      ],
      "text/plain": [
       "                              ride_id\n",
       "start_station_name                   \n",
       "Kingsbury St & Kinzie St        20310\n",
       "Clark St & Elm St               18493\n",
       "Clinton St & Washington Blvd    17512\n",
       "Wells St & Concord Ln           17095\n",
       "Loomis St & Lexington St        16764\n",
       "University Ave & 57th St        16061\n",
       "Ellis Ave & 60th St             15915\n",
       "Clinton St & Madison St         15511\n",
       "Wells St & Elm St               15502\n",
       "Streeter Dr & Grand Ave         14323"
      ]
     },
     "execution_count": 105,
     "metadata": {},
     "output_type": "execute_result"
    }
   ],
   "source": [
    "# Most popular start stations by member type.\n",
    "\n",
    "df_member = df[df[\"member_casual\"] == \"member\"]\n",
    "(df_member.groupby(\"start_station_name\")[[\"ride_id\"]]\n",
    "     .count().sort_values(by = \"ride_id\",ascending = False).head(10))"
   ]
  },
  {
   "cell_type": "code",
   "execution_count": 106,
   "id": "a7152149",
   "metadata": {},
   "outputs": [
    {
     "data": {
      "text/html": [
       "<div>\n",
       "<style scoped>\n",
       "    .dataframe tbody tr th:only-of-type {\n",
       "        vertical-align: middle;\n",
       "    }\n",
       "\n",
       "    .dataframe tbody tr th {\n",
       "        vertical-align: top;\n",
       "    }\n",
       "\n",
       "    .dataframe thead th {\n",
       "        text-align: right;\n",
       "    }\n",
       "</style>\n",
       "<table border=\"1\" class=\"dataframe\">\n",
       "  <thead>\n",
       "    <tr style=\"text-align: right;\">\n",
       "      <th></th>\n",
       "      <th>ride_id</th>\n",
       "    </tr>\n",
       "    <tr>\n",
       "      <th>start_station_name</th>\n",
       "      <th></th>\n",
       "    </tr>\n",
       "  </thead>\n",
       "  <tbody>\n",
       "    <tr>\n",
       "      <th>Streeter Dr &amp; Grand Ave</th>\n",
       "      <td>46598</td>\n",
       "    </tr>\n",
       "    <tr>\n",
       "      <th>DuSable Lake Shore Dr &amp; Monroe St</th>\n",
       "      <td>26119</td>\n",
       "    </tr>\n",
       "    <tr>\n",
       "      <th>Millennium Park</th>\n",
       "      <td>20278</td>\n",
       "    </tr>\n",
       "    <tr>\n",
       "      <th>Michigan Ave &amp; Oak St</th>\n",
       "      <td>19638</td>\n",
       "    </tr>\n",
       "    <tr>\n",
       "      <th>DuSable Lake Shore Dr &amp; North Blvd</th>\n",
       "      <td>18634</td>\n",
       "    </tr>\n",
       "    <tr>\n",
       "      <th>Shedd Aquarium</th>\n",
       "      <td>16251</td>\n",
       "    </tr>\n",
       "    <tr>\n",
       "      <th>Theater on the Lake</th>\n",
       "      <td>14953</td>\n",
       "    </tr>\n",
       "    <tr>\n",
       "      <th>Wells St &amp; Concord Ln</th>\n",
       "      <td>12690</td>\n",
       "    </tr>\n",
       "    <tr>\n",
       "      <th>Dusable Harbor</th>\n",
       "      <td>11747</td>\n",
       "    </tr>\n",
       "    <tr>\n",
       "      <th>Clark St &amp; Armitage Ave</th>\n",
       "      <td>10874</td>\n",
       "    </tr>\n",
       "  </tbody>\n",
       "</table>\n",
       "</div>"
      ],
      "text/plain": [
       "                                    ride_id\n",
       "start_station_name                         \n",
       "Streeter Dr & Grand Ave               46598\n",
       "DuSable Lake Shore Dr & Monroe St     26119\n",
       "Millennium Park                       20278\n",
       "Michigan Ave & Oak St                 19638\n",
       "DuSable Lake Shore Dr & North Blvd    18634\n",
       "Shedd Aquarium                        16251\n",
       "Theater on the Lake                   14953\n",
       "Wells St & Concord Ln                 12690\n",
       "Dusable Harbor                        11747\n",
       "Clark St & Armitage Ave               10874"
      ]
     },
     "execution_count": 106,
     "metadata": {},
     "output_type": "execute_result"
    }
   ],
   "source": [
    "df_casual = df[df[\"member_casual\"] == \"casual\"]\n",
    "(df_casual.groupby(\"start_station_name\")[[\"ride_id\"]]\n",
    "     .count().sort_values(by = \"ride_id\",ascending = False).head(10))"
   ]
  },
  {
   "cell_type": "code",
   "execution_count": 107,
   "id": "a7a3496e",
   "metadata": {},
   "outputs": [
    {
     "data": {
      "text/html": [
       "<div>\n",
       "<style scoped>\n",
       "    .dataframe tbody tr th:only-of-type {\n",
       "        vertical-align: middle;\n",
       "    }\n",
       "\n",
       "    .dataframe tbody tr th {\n",
       "        vertical-align: top;\n",
       "    }\n",
       "\n",
       "    .dataframe thead th {\n",
       "        text-align: right;\n",
       "    }\n",
       "</style>\n",
       "<table border=\"1\" class=\"dataframe\">\n",
       "  <thead>\n",
       "    <tr style=\"text-align: right;\">\n",
       "      <th></th>\n",
       "      <th>ride_id</th>\n",
       "    </tr>\n",
       "    <tr>\n",
       "      <th>end_station_name</th>\n",
       "      <th></th>\n",
       "    </tr>\n",
       "  </thead>\n",
       "  <tbody>\n",
       "    <tr>\n",
       "      <th>Kingsbury St &amp; Kinzie St</th>\n",
       "      <td>20376</td>\n",
       "    </tr>\n",
       "    <tr>\n",
       "      <th>Clark St &amp; Elm St</th>\n",
       "      <td>18631</td>\n",
       "    </tr>\n",
       "    <tr>\n",
       "      <th>Clinton St &amp; Washington Blvd</th>\n",
       "      <td>18599</td>\n",
       "    </tr>\n",
       "    <tr>\n",
       "      <th>Wells St &amp; Concord Ln</th>\n",
       "      <td>18138</td>\n",
       "    </tr>\n",
       "    <tr>\n",
       "      <th>Loomis St &amp; Lexington St</th>\n",
       "      <td>17148</td>\n",
       "    </tr>\n",
       "    <tr>\n",
       "      <th>University Ave &amp; 57th St</th>\n",
       "      <td>16591</td>\n",
       "    </tr>\n",
       "    <tr>\n",
       "      <th>Clinton St &amp; Madison St</th>\n",
       "      <td>16308</td>\n",
       "    </tr>\n",
       "    <tr>\n",
       "      <th>Ellis Ave &amp; 60th St</th>\n",
       "      <td>15535</td>\n",
       "    </tr>\n",
       "    <tr>\n",
       "      <th>Wells St &amp; Elm St</th>\n",
       "      <td>15076</td>\n",
       "    </tr>\n",
       "    <tr>\n",
       "      <th>Broadway &amp; Barry Ave</th>\n",
       "      <td>14615</td>\n",
       "    </tr>\n",
       "  </tbody>\n",
       "</table>\n",
       "</div>"
      ],
      "text/plain": [
       "                              ride_id\n",
       "end_station_name                     \n",
       "Kingsbury St & Kinzie St        20376\n",
       "Clark St & Elm St               18631\n",
       "Clinton St & Washington Blvd    18599\n",
       "Wells St & Concord Ln           18138\n",
       "Loomis St & Lexington St        17148\n",
       "University Ave & 57th St        16591\n",
       "Clinton St & Madison St         16308\n",
       "Ellis Ave & 60th St             15535\n",
       "Wells St & Elm St               15076\n",
       "Broadway & Barry Ave            14615"
      ]
     },
     "execution_count": 107,
     "metadata": {},
     "output_type": "execute_result"
    }
   ],
   "source": [
    "df_member = df[df[\"member_casual\"] == \"member\"]\n",
    "(df_member.groupby(\"end_station_name\")[[\"ride_id\"]]\n",
    "     .count().sort_values(by = \"ride_id\",ascending = False).head(10))"
   ]
  },
  {
   "cell_type": "code",
   "execution_count": 108,
   "id": "b77e8be7",
   "metadata": {},
   "outputs": [
    {
     "data": {
      "text/html": [
       "<div>\n",
       "<style scoped>\n",
       "    .dataframe tbody tr th:only-of-type {\n",
       "        vertical-align: middle;\n",
       "    }\n",
       "\n",
       "    .dataframe tbody tr th {\n",
       "        vertical-align: top;\n",
       "    }\n",
       "\n",
       "    .dataframe thead th {\n",
       "        text-align: right;\n",
       "    }\n",
       "</style>\n",
       "<table border=\"1\" class=\"dataframe\">\n",
       "  <thead>\n",
       "    <tr style=\"text-align: right;\">\n",
       "      <th></th>\n",
       "      <th>ride_id</th>\n",
       "    </tr>\n",
       "    <tr>\n",
       "      <th>end_station_name</th>\n",
       "      <th></th>\n",
       "    </tr>\n",
       "  </thead>\n",
       "  <tbody>\n",
       "    <tr>\n",
       "      <th>Streeter Dr &amp; Grand Ave</th>\n",
       "      <td>49190</td>\n",
       "    </tr>\n",
       "    <tr>\n",
       "      <th>DuSable Lake Shore Dr &amp; Monroe St</th>\n",
       "      <td>24897</td>\n",
       "    </tr>\n",
       "    <tr>\n",
       "      <th>Millennium Park</th>\n",
       "      <td>22112</td>\n",
       "    </tr>\n",
       "    <tr>\n",
       "      <th>DuSable Lake Shore Dr &amp; North Blvd</th>\n",
       "      <td>21947</td>\n",
       "    </tr>\n",
       "    <tr>\n",
       "      <th>Michigan Ave &amp; Oak St</th>\n",
       "      <td>20819</td>\n",
       "    </tr>\n",
       "    <tr>\n",
       "      <th>Theater on the Lake</th>\n",
       "      <td>16137</td>\n",
       "    </tr>\n",
       "    <tr>\n",
       "      <th>Shedd Aquarium</th>\n",
       "      <td>14733</td>\n",
       "    </tr>\n",
       "    <tr>\n",
       "      <th>Wells St &amp; Concord Ln</th>\n",
       "      <td>12474</td>\n",
       "    </tr>\n",
       "    <tr>\n",
       "      <th>Dusable Harbor</th>\n",
       "      <td>11331</td>\n",
       "    </tr>\n",
       "    <tr>\n",
       "      <th>Clark St &amp; Armitage Ave</th>\n",
       "      <td>11258</td>\n",
       "    </tr>\n",
       "  </tbody>\n",
       "</table>\n",
       "</div>"
      ],
      "text/plain": [
       "                                    ride_id\n",
       "end_station_name                           \n",
       "Streeter Dr & Grand Ave               49190\n",
       "DuSable Lake Shore Dr & Monroe St     24897\n",
       "Millennium Park                       22112\n",
       "DuSable Lake Shore Dr & North Blvd    21947\n",
       "Michigan Ave & Oak St                 20819\n",
       "Theater on the Lake                   16137\n",
       "Shedd Aquarium                        14733\n",
       "Wells St & Concord Ln                 12474\n",
       "Dusable Harbor                        11331\n",
       "Clark St & Armitage Ave               11258"
      ]
     },
     "execution_count": 108,
     "metadata": {},
     "output_type": "execute_result"
    }
   ],
   "source": [
    "df_casual = df[df[\"member_casual\"] == \"casual\"]\n",
    "(df_casual.groupby(\"end_station_name\")[[\"ride_id\"]]\n",
    "     .count().sort_values(by = \"ride_id\",ascending = False).head(10))"
   ]
  },
  {
   "cell_type": "markdown",
   "id": "784eeb85",
   "metadata": {},
   "source": [
    "## 6.0 ACT"
   ]
  },
  {
   "cell_type": "markdown",
   "id": "13b83990",
   "metadata": {},
   "source": [
    "### 6.1 SUMMARY AND CONCLUSION"
   ]
  },
  {
   "cell_type": "markdown",
   "id": "0c06becd",
   "metadata": {},
   "source": [
    "- We have analysed Cyclistic data during the period of **2022 June 01** to **2023 May 31**. \n",
    "\n",
    "- In this data, after processing and cleaning we found 3864104 entries(rows) having 2344323 annual members and 1519781 casual member types with classic bike being the most popular in both. \n",
    "\n",
    "- Cyclistic bikes are already used most by annual members\n",
    "\n",
    "- Average ride duration(*Mean*) for all member types is 16 minutes with minimum of 1 minute and maximum of 32035 minutes. *Median* ride duration is 10 minutes(50%). With 50% of the values of ride duration below 10 minutes our data for ride_duration is skewed right.\n",
    "\n",
    "- \n",
    "\n",
    "- **Casual member types:**\n",
    "    - Average ride duration higher than members when aggregated by either Hour, Day of Week or Month.\n",
    "    - Number of rides is lower than members when aggregated by either Hour, Day of Week or Month.\n",
    "    - Peak of rental hour is higher in evening from 4-6 PM. \n",
    "    - Surge in number of rentals by Month starting from April, with a peak in July. \n",
    "    - Peak rental by Day of Week is Saturday(*Higher than annual members*)\n",
    "    - Most popular start station name is Streeter Dr & Grand Ave\n",
    "    - Top 10 start and end stations are almost the same\n",
    "    \n",
    "- **Annual member types:**\n",
    "    - Number of rides is higher compared to casual member type when aggregated by either Hour, Day of Week or Month\n",
    "    - Average ride duration is lower than casual members when aggregated by either Hour, Day of Week or Month\n",
    "    - Peak of rental hour is higher in evening from 4-6 PM, and also from 6-8 AM. We can infer from this that most of members use bikes for commute to work.\n",
    "    - Surge in number of rentals by month starting from March, with a peak in August. Interestingly, even in winter(December- February) the number of rentalsl by Month are stable. \n",
    "    - Peak rental by Day of Week is Wednesday\n",
    "    - Most popular start station name is Kingsbury St & Kinzie St"
   ]
  },
  {
   "cell_type": "markdown",
   "id": "e5b868b9",
   "metadata": {},
   "source": [
    "### 6.2 ADDITIONAL DATA "
   ]
  },
  {
   "cell_type": "markdown",
   "id": "831ed9c0",
   "metadata": {},
   "source": [
    "- User data, personally identifiable and financial information would further enhance our analysis. We could find frequent casual riders and target them to turn them to annual memberships. We can find and advertise if casual renting of a bike is more expensive than annual membership. "
   ]
  },
  {
   "cell_type": "markdown",
   "id": "b17816bc",
   "metadata": {},
   "source": [
    "### 6.3 RECOMMENDATIONS"
   ]
  },
  {
   "cell_type": "markdown",
   "id": "c0cc16a3",
   "metadata": {},
   "source": [
    "- Majority of casual riders use bikes during the weekend, and a surge starting from  April - July months,our marketing strategy should target them during that time\n",
    "\n",
    "- Most popular top 10 start and end stations are the same. We can target our advertising about annual membership offers at those locations \n",
    "\n",
    "- Discounted Annual membership for use only on weekends only will attract casual riders coming in during weekends\n",
    "\n",
    "- Casual riders mostly use electric bikes, an annual membership with electric bike rental option for a lower price would be a good marketing strategy"
   ]
  },
  {
   "cell_type": "code",
   "execution_count": null,
   "id": "272b3d57",
   "metadata": {},
   "outputs": [],
   "source": []
  }
 ],
 "metadata": {
  "kernelspec": {
   "display_name": "Python 3 (ipykernel)",
   "language": "python",
   "name": "python3"
  },
  "language_info": {
   "codemirror_mode": {
    "name": "ipython",
    "version": 3
   },
   "file_extension": ".py",
   "mimetype": "text/x-python",
   "name": "python",
   "nbconvert_exporter": "python",
   "pygments_lexer": "ipython3",
   "version": "3.11.3"
  }
 },
 "nbformat": 4,
 "nbformat_minor": 5
}
